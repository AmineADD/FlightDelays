{
 "cells": [
  {
   "cell_type": "code",
   "execution_count": 124,
   "id": "1f59206a-e43c-4980-bb65-c955fa67184a",
   "metadata": {},
   "outputs": [],
   "source": [
    "#Import Libraries\n",
    "\n",
    "from pyspark.sql import SparkSession\n",
    "from pyspark.sql.functions import *\n",
    "from pyspark.sql.types import *\n",
    "from pyspark.ml.feature import *\n",
    "from pyspark.ml import Pipeline\n",
    "from pyspark.ml.classification import LogisticRegression\n",
    "import pyspark.ml.evaluation as evalu"
   ]
  },
  {
   "cell_type": "code",
   "execution_count": 125,
   "id": "dbde520d-2e0e-4746-8c2d-5572eb9c103e",
   "metadata": {},
   "outputs": [],
   "source": [
    "#Configuration Jobs\n",
    "\n",
    "spark = SparkSession \\\n",
    "    .builder \\\n",
    "    .appName(\"Flights\") \\\n",
    "    .getOrCreate()"
   ]
  },
  {
   "cell_type": "code",
   "execution_count": 126,
   "id": "60a40ed5-ccf2-429b-a336-6ad834909e89",
   "metadata": {},
   "outputs": [],
   "source": [
    "#Load csv Data to DataFrame"
   ]
  },
  {
   "cell_type": "code",
   "execution_count": 127,
   "id": "7d8fe8ce-e5d5-4ce5-b400-ff9fa6885ec7",
   "metadata": {},
   "outputs": [],
   "source": [
    "#Flights\n",
    "flightsDF= spark.read.option(\"header\",\"true\").csv(\"./Data/flights.csv\")\n",
    "#Airports\n",
    "airportsDF= spark.read.option(\"header\",\"true\").csv(\"./Data/airports.csv\")\n",
    "#Airline\n",
    "airlinesDF= spark.read.option(\"header\",\"true\").csv(\"./Data/airlines.csv\")"
   ]
  },
  {
   "cell_type": "code",
   "execution_count": 128,
   "id": "3aee27e6-9086-46cb-b9cb-3f71bfb63c85",
   "metadata": {
    "scrolled": true
   },
   "outputs": [],
   "source": [
    "#Functions to transform or remove columns\n",
    "def RemoveColumnsFunction(df: DataFrame, columns_to_drop: ['']) -> DataFrame:\n",
    "    return df.drop(*columns_to_drop)"
   ]
  },
  {
   "cell_type": "code",
   "execution_count": 129,
   "id": "3e99f8b4",
   "metadata": {},
   "outputs": [],
   "source": [
    "#join airlines to flights to avoid code\n",
    "flightsDF = flightsDF.join(airlinesDF,flightsDF.AIRLINE ==  airlinesDF.IATA_CODE,\"inner\").drop(flightsDF.AIRLINE).drop(col(\"IATA_CODE\")).withColumnRenamed(\"AIRLINE\",\"AIRLINE_\") \n",
    "flightsDF = flightsDF.join(airportsDF,flightsDF.ORIGIN_AIRPORT ==  airportsDF.IATA_CODE,\"inner\").withColumnRenamed(\"CITY\",\"CITY_DEPART_\") \n",
    "columns_to_drop = ['IATA_CODE','AIRPORT','CITY','STATE','COUNTRY','LATITUDE','LONGITUDE']\n",
    "flightsDF = RemoveColumnsFunction(flightsDF, columns_to_drop)\n",
    "flightsDF = flightsDF.join(airportsDF,flightsDF.DESTINATION_AIRPORT ==  airportsDF.IATA_CODE,\"inner\").withColumnRenamed(\"CITY\",\"CITY_ARRIVAL_\") \n",
    "flightsDF = RemoveColumnsFunction(flightsDF, columns_to_drop)"
   ]
  },
  {
   "cell_type": "code",
   "execution_count": 130,
   "id": "8ce27888",
   "metadata": {},
   "outputs": [],
   "source": [
    "# remove unecessary columns\n",
    "columns_to_drop = [\n",
    "    \"YEAR\",\n",
    "    \"DAY\",\n",
    "    \"TAXI_OUT\",\n",
    "    \"TAXI_IN\",\n",
    "    \"WHEELS_ON\",\n",
    "    \"WHEELS_OFF\",\n",
    "    \"YEAR\",\n",
    "    \"DAY\",\n",
    "    \"DAY_OF_WEEK\",\n",
    "    \"AIR_SYSTEM_DELAY\",\n",
    "    \"SECURITY_DELAY\",\n",
    "    \"AIRLINE_DELAY\",\n",
    "    \"LATE_AIRCRAFT_DELAY\",\n",
    "    \"WEATHER_DELAY\",\n",
    "    \"DIVERTED\",\n",
    "    \"FLIGHT_NUMBER\",\n",
    "    \"TAIL_NUMBER\",\n",
    "    \"AIR_TIME\",\n",
    "    \"ELAPSED_TIME\",\n",
    "    \"DISTANCE\",\n",
    "    \"SCHEDULED_DEPARTURE\",\n",
    "    \"DEPARTURE_TIME\",\n",
    "    \"SCHEDULED_TIME\",\n",
    "    \"SCHEDULED_ARRIVAL\",\n",
    "    \"ARRIVAL_TIME\"\n",
    "]"
   ]
  },
  {
   "cell_type": "code",
   "execution_count": 131,
   "id": "8a4b88c0",
   "metadata": {},
   "outputs": [],
   "source": [
    "# Transform CANCELLED column values to boolean"
   ]
  },
  {
   "cell_type": "code",
   "execution_count": 154,
   "id": "78769bc2",
   "metadata": {},
   "outputs": [],
   "source": [
    "flightsDF = flightsDF.drop(*columns_to_drop)\n",
    "flightsDF = flightsDF.withColumn(\"CANCELLED\", flightsDF.CANCELLED == 1)"
   ]
  },
  {
   "cell_type": "code",
   "execution_count": 155,
   "id": "1fc5eb29",
   "metadata": {
    "scrolled": true
   },
   "outputs": [
    {
     "name": "stdout",
     "output_type": "stream",
     "text": [
      "+-----+--------------+-------------------+---------------+-------------+---------+-------------------+--------------------+--------------+-----------------+\n",
      "|MONTH|ORIGIN_AIRPORT|DESTINATION_AIRPORT|DEPARTURE_DELAY|ARRIVAL_DELAY|CANCELLED|CANCELLATION_REASON|            AIRLINE_|  CITY_DEPART_|    CITY_ARRIVAL_|\n",
      "+-----+--------------+-------------------+---------------+-------------+---------+-------------------+--------------------+--------------+-----------------+\n",
      "|    1|           ANC|                SEA|            -11|          -22|    false|               null|Alaska Airlines Inc.|     Anchorage|          Seattle|\n",
      "|    1|           LAX|                PBI|             -8|           -9|    false|               null|American Airlines...|   Los Angeles|  West Palm Beach|\n",
      "|    1|           SFO|                CLT|             -2|            5|    false|               null|     US Airways Inc.| San Francisco|        Charlotte|\n",
      "|    1|           LAX|                MIA|             -5|           -9|    false|               null|American Airlines...|   Los Angeles|            Miami|\n",
      "|    1|           SEA|                ANC|             -1|          -21|    false|               null|Alaska Airlines Inc.|       Seattle|        Anchorage|\n",
      "|    1|           SFO|                MSP|             -5|            8|    false|               null|Delta Air Lines Inc.| San Francisco|      Minneapolis|\n",
      "|    1|           LAS|                MSP|             -6|          -17|    false|               null|    Spirit Air Lines|     Las Vegas|      Minneapolis|\n",
      "|    1|           LAX|                CLT|             14|          -10|    false|               null|     US Airways Inc.|   Los Angeles|        Charlotte|\n",
      "|    1|           SFO|                DFW|            -11|          -13|    false|               null|American Airlines...| San Francisco|Dallas-Fort Worth|\n",
      "|    1|           LAS|                ATL|              3|          -15|    false|               null|Delta Air Lines Inc.|     Las Vegas|          Atlanta|\n",
      "|    1|           DEN|                ATL|             -6|          -30|    false|               null|Delta Air Lines Inc.|        Denver|          Atlanta|\n",
      "|    1|           LAS|                MIA|             -8|          -10|    false|               null|American Airlines...|     Las Vegas|            Miami|\n",
      "|    1|           LAX|                MSP|              0|           -4|    false|               null|Delta Air Lines Inc.|   Los Angeles|      Minneapolis|\n",
      "|    1|           SLC|                ATL|             -6|          -22|    false|               null|Delta Air Lines Inc.|Salt Lake City|          Atlanta|\n",
      "|    1|           SEA|                MSP|             -1|            8|    false|               null|Delta Air Lines Inc.|       Seattle|      Minneapolis|\n",
      "|    1|           ANC|                SEA|             -4|          -14|    false|               null|Alaska Airlines Inc.|     Anchorage|          Seattle|\n",
      "|    1|           ANC|                SEA|            -14|          -24|    false|               null|Delta Air Lines Inc.|     Anchorage|          Seattle|\n",
      "|    1|           SFO|                IAH|             -6|           -7|    false|               null|United Air Lines ...| San Francisco|          Houston|\n",
      "|    1|           ANC|                PDX|             -4|          -18|    false|               null|Alaska Airlines Inc.|     Anchorage|         Portland|\n",
      "|    1|           PDX|                MSP|             -5|          -12|    false|               null|Delta Air Lines Inc.|      Portland|      Minneapolis|\n",
      "+-----+--------------+-------------------+---------------+-------------+---------+-------------------+--------------------+--------------+-----------------+\n",
      "only showing top 20 rows\n",
      "\n"
     ]
    }
   ],
   "source": [
    "flightsDF.show()"
   ]
  },
  {
   "cell_type": "code",
   "execution_count": 156,
   "id": "7f939ee2",
   "metadata": {},
   "outputs": [
    {
     "data": {
      "text/plain": [
       "DataFrame[CANCELLED: boolean, count: bigint]"
      ]
     },
     "execution_count": 156,
     "metadata": {},
     "output_type": "execute_result"
    }
   ],
   "source": [
    "flightsDF.groupBy('CANCELLED').count().orderBy('count', ascending=False)"
   ]
  },
  {
   "cell_type": "code",
   "execution_count": 157,
   "id": "d1038d30",
   "metadata": {},
   "outputs": [],
   "source": [
    "# Add feature column"
   ]
  },
  {
   "cell_type": "code",
   "execution_count": 162,
   "id": "42e882bb",
   "metadata": {},
   "outputs": [],
   "source": [
    "flightsDF = flightsDF.withColumn(\"MONTH\", flightsDF.MONTH.cast(\"integer\"))\n",
    "\n",
    "origin_airport_indexer = StringIndexer(inputCol=\"ORIGIN_AIRPORT\", outputCol=\"ORIGIN_AIRPORT_index\")\n",
    "origin_airport_encoder = OneHotEncoder(inputCol=\"ORIGIN_AIRPORT_index\", outputCol=\"ORIGIN_AIRPORT_fact\")\n",
    "\n",
    "dest_airport_indexer = StringIndexer(inputCol=\"DESTINATION_AIRPORT\", outputCol=\"DESTINATION_AIRPORT_index\")\n",
    "dest_airport_encoder = OneHotEncoder(inputCol=\"DESTINATION_AIRPORT_index\", outputCol=\"DESTINATION_AIRPORT_fact\")\n",
    "\n",
    "airline_indexer = StringIndexer(inputCol=\"AIRLINE_\", outputCol=\"AIRLINE_index\")\n",
    "airline_encoder = OneHotEncoder(inputCol=\"AIRLINE_index\", outputCol=\"AIRLINE_fact\")\n",
    "\n",
    "city_dep_indexer = StringIndexer(inputCol=\"CITY_DEPART_\", outputCol=\"CITY_DEPART_index\")\n",
    "city_dep_encoder = OneHotEncoder(inputCol=\"CITY_DEPART_index\", outputCol=\"CITY_DEPART_fact\")\n",
    "\n",
    "city_arrival_indexer = StringIndexer(inputCol=\"CITY_ARRIVAL_\", outputCol=\"CITY_ARRIVAL_index\")\n",
    "city_arrival_encoder = OneHotEncoder(inputCol=\"CITY_ARRIVAL_index\", outputCol=\"CITY_ARRIVAL_fact\")"
   ]
  },
  {
   "cell_type": "code",
   "execution_count": 163,
   "id": "8d199317",
   "metadata": {},
   "outputs": [],
   "source": [
    "cols = [\n",
    "    \"MONTH\",\n",
    "    \"ORIGIN_AIRPORT_fact\",\n",
    "    \"DESTINATION_AIRPORT_fact\",\n",
    "    \"AIRLINE_fact\",\n",
    "    \"CITY_DEPART_fact\",\n",
    "    \"CITY_ARRIVAL_fact\"\n",
    "]\n",
    "assembler = VectorAssembler(inputCols=cols, outputCol=\"features\")"
   ]
  },
  {
   "cell_type": "code",
   "execution_count": 164,
   "id": "b00f277e",
   "metadata": {},
   "outputs": [],
   "source": [
    "# Pipeline"
   ]
  },
  {
   "cell_type": "code",
   "execution_count": 165,
   "id": "571dbb11",
   "metadata": {},
   "outputs": [
    {
     "name": "stderr",
     "output_type": "stream",
     "text": [
      "                                                                                \r"
     ]
    },
    {
     "name": "stdout",
     "output_type": "stream",
     "text": [
      "data points(rows) in train data : 3730718\n"
     ]
    },
    {
     "name": "stderr",
     "output_type": "stream",
     "text": [
      "[Stage 388:=================================================>       (7 + 1) / 8]\r"
     ]
    },
    {
     "name": "stdout",
     "output_type": "stream",
     "text": [
      "data points(rows) in test data : 1602196\n"
     ]
    },
    {
     "name": "stderr",
     "output_type": "stream",
     "text": [
      "\r",
      "                                                                                \r"
     ]
    }
   ],
   "source": [
    "flights_pipe = Pipeline(stages=[\n",
    "    origin_airport_indexer,\n",
    "    origin_airport_encoder,\n",
    "    dest_airport_indexer,\n",
    "    dest_airport_encoder,\n",
    "    airline_indexer,\n",
    "    airline_encoder,\n",
    "    city_dep_indexer,\n",
    "    city_dep_encoder,\n",
    "    city_arrival_indexer,\n",
    "    city_arrival_encoder,\n",
    "    assembler\n",
    "])\n",
    "\n",
    "piped_data = flights_pipe.fit(flightsDF).transform(flightsDF)\n",
    "\n",
    "train_data, test_data = piped_data.randomSplit([.7, .3])\n",
    "\n",
    "print('data points(rows) in train data :',  train_data.count())\n",
    "print('data points(rows) in test data :',  test_data.count())"
   ]
  },
  {
   "cell_type": "code",
   "execution_count": 166,
   "id": "61695e01",
   "metadata": {},
   "outputs": [],
   "source": [
    "# training data"
   ]
  },
  {
   "cell_type": "code",
   "execution_count": 169,
   "id": "bb78a20f",
   "metadata": {},
   "outputs": [
    {
     "ename": "IllegalArgumentException",
     "evalue": "label does not exist. Available: MONTH, ORIGIN_AIRPORT, DESTINATION_AIRPORT, DEPARTURE_DELAY, ARRIVAL_DELAY, CANCELLED, CANCELLATION_REASON, AIRLINE_, CITY_DEPART_, CITY_ARRIVAL_, ORIGIN_AIRPORT_index, ORIGIN_AIRPORT_fact, DESTINATION_AIRPORT_index, DESTINATION_AIRPORT_fact, AIRLINE_index, AIRLINE_fact, CITY_DEPART_index, CITY_DEPART_fact, CITY_ARRIVAL_index, CITY_ARRIVAL_fact, features",
     "output_type": "error",
     "traceback": [
      "\u001b[0;31m---------------------------------------------------------------------------\u001b[0m",
      "\u001b[0;31mIllegalArgumentException\u001b[0m                  Traceback (most recent call last)",
      "\u001b[0;32m/tmp/ipykernel_36/3989646611.py\u001b[0m in \u001b[0;36m<module>\u001b[0;34m\u001b[0m\n\u001b[1;32m      3\u001b[0m \u001b[0mevaluator\u001b[0m \u001b[0;34m=\u001b[0m \u001b[0mevalu\u001b[0m\u001b[0;34m.\u001b[0m\u001b[0mBinaryClassificationEvaluator\u001b[0m\u001b[0;34m(\u001b[0m\u001b[0mmetricName\u001b[0m\u001b[0;34m=\u001b[0m\u001b[0;34m\"areaUnderROC\"\u001b[0m\u001b[0;34m)\u001b[0m\u001b[0;34m\u001b[0m\u001b[0;34m\u001b[0m\u001b[0m\n\u001b[1;32m      4\u001b[0m \u001b[0;34m\u001b[0m\u001b[0m\n\u001b[0;32m----> 5\u001b[0;31m \u001b[0mLogisticRegressionModel\u001b[0m \u001b[0;34m=\u001b[0m \u001b[0mlr\u001b[0m\u001b[0;34m.\u001b[0m\u001b[0mfit\u001b[0m\u001b[0;34m(\u001b[0m\u001b[0mtrain_data\u001b[0m\u001b[0;34m)\u001b[0m\u001b[0;34m\u001b[0m\u001b[0;34m\u001b[0m\u001b[0m\n\u001b[0m\u001b[1;32m      6\u001b[0m \u001b[0;34m\u001b[0m\u001b[0m\n\u001b[1;32m      7\u001b[0m \u001b[0mtest_results\u001b[0m \u001b[0;34m=\u001b[0m \u001b[0mLogisticRegressionModel\u001b[0m\u001b[0;34m.\u001b[0m\u001b[0mtransform\u001b[0m\u001b[0;34m(\u001b[0m\u001b[0mtest_data\u001b[0m\u001b[0;34m)\u001b[0m\u001b[0;34m\u001b[0m\u001b[0;34m\u001b[0m\u001b[0m\n",
      "\u001b[0;32m/usr/local/spark/python/pyspark/ml/base.py\u001b[0m in \u001b[0;36mfit\u001b[0;34m(self, dataset, params)\u001b[0m\n\u001b[1;32m    159\u001b[0m                 \u001b[0;32mreturn\u001b[0m \u001b[0mself\u001b[0m\u001b[0;34m.\u001b[0m\u001b[0mcopy\u001b[0m\u001b[0;34m(\u001b[0m\u001b[0mparams\u001b[0m\u001b[0;34m)\u001b[0m\u001b[0;34m.\u001b[0m\u001b[0m_fit\u001b[0m\u001b[0;34m(\u001b[0m\u001b[0mdataset\u001b[0m\u001b[0;34m)\u001b[0m\u001b[0;34m\u001b[0m\u001b[0;34m\u001b[0m\u001b[0m\n\u001b[1;32m    160\u001b[0m             \u001b[0;32melse\u001b[0m\u001b[0;34m:\u001b[0m\u001b[0;34m\u001b[0m\u001b[0;34m\u001b[0m\u001b[0m\n\u001b[0;32m--> 161\u001b[0;31m                 \u001b[0;32mreturn\u001b[0m \u001b[0mself\u001b[0m\u001b[0;34m.\u001b[0m\u001b[0m_fit\u001b[0m\u001b[0;34m(\u001b[0m\u001b[0mdataset\u001b[0m\u001b[0;34m)\u001b[0m\u001b[0;34m\u001b[0m\u001b[0;34m\u001b[0m\u001b[0m\n\u001b[0m\u001b[1;32m    162\u001b[0m         \u001b[0;32melse\u001b[0m\u001b[0;34m:\u001b[0m\u001b[0;34m\u001b[0m\u001b[0;34m\u001b[0m\u001b[0m\n\u001b[1;32m    163\u001b[0m             raise ValueError(\"Params must be either a param map or a list/tuple of param maps, \"\n",
      "\u001b[0;32m/usr/local/spark/python/pyspark/ml/wrapper.py\u001b[0m in \u001b[0;36m_fit\u001b[0;34m(self, dataset)\u001b[0m\n\u001b[1;32m    333\u001b[0m \u001b[0;34m\u001b[0m\u001b[0m\n\u001b[1;32m    334\u001b[0m     \u001b[0;32mdef\u001b[0m \u001b[0m_fit\u001b[0m\u001b[0;34m(\u001b[0m\u001b[0mself\u001b[0m\u001b[0;34m,\u001b[0m \u001b[0mdataset\u001b[0m\u001b[0;34m)\u001b[0m\u001b[0;34m:\u001b[0m\u001b[0;34m\u001b[0m\u001b[0;34m\u001b[0m\u001b[0m\n\u001b[0;32m--> 335\u001b[0;31m         \u001b[0mjava_model\u001b[0m \u001b[0;34m=\u001b[0m \u001b[0mself\u001b[0m\u001b[0;34m.\u001b[0m\u001b[0m_fit_java\u001b[0m\u001b[0;34m(\u001b[0m\u001b[0mdataset\u001b[0m\u001b[0;34m)\u001b[0m\u001b[0;34m\u001b[0m\u001b[0;34m\u001b[0m\u001b[0m\n\u001b[0m\u001b[1;32m    336\u001b[0m         \u001b[0mmodel\u001b[0m \u001b[0;34m=\u001b[0m \u001b[0mself\u001b[0m\u001b[0;34m.\u001b[0m\u001b[0m_create_model\u001b[0m\u001b[0;34m(\u001b[0m\u001b[0mjava_model\u001b[0m\u001b[0;34m)\u001b[0m\u001b[0;34m\u001b[0m\u001b[0;34m\u001b[0m\u001b[0m\n\u001b[1;32m    337\u001b[0m         \u001b[0;32mreturn\u001b[0m \u001b[0mself\u001b[0m\u001b[0;34m.\u001b[0m\u001b[0m_copyValues\u001b[0m\u001b[0;34m(\u001b[0m\u001b[0mmodel\u001b[0m\u001b[0;34m)\u001b[0m\u001b[0;34m\u001b[0m\u001b[0;34m\u001b[0m\u001b[0m\n",
      "\u001b[0;32m/usr/local/spark/python/pyspark/ml/wrapper.py\u001b[0m in \u001b[0;36m_fit_java\u001b[0;34m(self, dataset)\u001b[0m\n\u001b[1;32m    330\u001b[0m         \"\"\"\n\u001b[1;32m    331\u001b[0m         \u001b[0mself\u001b[0m\u001b[0;34m.\u001b[0m\u001b[0m_transfer_params_to_java\u001b[0m\u001b[0;34m(\u001b[0m\u001b[0;34m)\u001b[0m\u001b[0;34m\u001b[0m\u001b[0;34m\u001b[0m\u001b[0m\n\u001b[0;32m--> 332\u001b[0;31m         \u001b[0;32mreturn\u001b[0m \u001b[0mself\u001b[0m\u001b[0;34m.\u001b[0m\u001b[0m_java_obj\u001b[0m\u001b[0;34m.\u001b[0m\u001b[0mfit\u001b[0m\u001b[0;34m(\u001b[0m\u001b[0mdataset\u001b[0m\u001b[0;34m.\u001b[0m\u001b[0m_jdf\u001b[0m\u001b[0;34m)\u001b[0m\u001b[0;34m\u001b[0m\u001b[0;34m\u001b[0m\u001b[0m\n\u001b[0m\u001b[1;32m    333\u001b[0m \u001b[0;34m\u001b[0m\u001b[0m\n\u001b[1;32m    334\u001b[0m     \u001b[0;32mdef\u001b[0m \u001b[0m_fit\u001b[0m\u001b[0;34m(\u001b[0m\u001b[0mself\u001b[0m\u001b[0;34m,\u001b[0m \u001b[0mdataset\u001b[0m\u001b[0;34m)\u001b[0m\u001b[0;34m:\u001b[0m\u001b[0;34m\u001b[0m\u001b[0;34m\u001b[0m\u001b[0m\n",
      "\u001b[0;32m/usr/local/spark/python/lib/py4j-0.10.9-src.zip/py4j/java_gateway.py\u001b[0m in \u001b[0;36m__call__\u001b[0;34m(self, *args)\u001b[0m\n\u001b[1;32m   1302\u001b[0m \u001b[0;34m\u001b[0m\u001b[0m\n\u001b[1;32m   1303\u001b[0m         \u001b[0manswer\u001b[0m \u001b[0;34m=\u001b[0m \u001b[0mself\u001b[0m\u001b[0;34m.\u001b[0m\u001b[0mgateway_client\u001b[0m\u001b[0;34m.\u001b[0m\u001b[0msend_command\u001b[0m\u001b[0;34m(\u001b[0m\u001b[0mcommand\u001b[0m\u001b[0;34m)\u001b[0m\u001b[0;34m\u001b[0m\u001b[0;34m\u001b[0m\u001b[0m\n\u001b[0;32m-> 1304\u001b[0;31m         return_value = get_return_value(\n\u001b[0m\u001b[1;32m   1305\u001b[0m             answer, self.gateway_client, self.target_id, self.name)\n\u001b[1;32m   1306\u001b[0m \u001b[0;34m\u001b[0m\u001b[0m\n",
      "\u001b[0;32m/usr/local/spark/python/pyspark/sql/utils.py\u001b[0m in \u001b[0;36mdeco\u001b[0;34m(*a, **kw)\u001b[0m\n\u001b[1;32m    115\u001b[0m                 \u001b[0;31m# Hide where the exception came from that shows a non-Pythonic\u001b[0m\u001b[0;34m\u001b[0m\u001b[0;34m\u001b[0m\u001b[0m\n\u001b[1;32m    116\u001b[0m                 \u001b[0;31m# JVM exception message.\u001b[0m\u001b[0;34m\u001b[0m\u001b[0;34m\u001b[0m\u001b[0m\n\u001b[0;32m--> 117\u001b[0;31m                 \u001b[0;32mraise\u001b[0m \u001b[0mconverted\u001b[0m \u001b[0;32mfrom\u001b[0m \u001b[0;32mNone\u001b[0m\u001b[0;34m\u001b[0m\u001b[0;34m\u001b[0m\u001b[0m\n\u001b[0m\u001b[1;32m    118\u001b[0m             \u001b[0;32melse\u001b[0m\u001b[0;34m:\u001b[0m\u001b[0;34m\u001b[0m\u001b[0;34m\u001b[0m\u001b[0m\n\u001b[1;32m    119\u001b[0m                 \u001b[0;32mraise\u001b[0m\u001b[0;34m\u001b[0m\u001b[0;34m\u001b[0m\u001b[0m\n",
      "\u001b[0;31mIllegalArgumentException\u001b[0m: label does not exist. Available: MONTH, ORIGIN_AIRPORT, DESTINATION_AIRPORT, DEPARTURE_DELAY, ARRIVAL_DELAY, CANCELLED, CANCELLATION_REASON, AIRLINE_, CITY_DEPART_, CITY_ARRIVAL_, ORIGIN_AIRPORT_index, ORIGIN_AIRPORT_fact, DESTINATION_AIRPORT_index, DESTINATION_AIRPORT_fact, AIRLINE_index, AIRLINE_fact, CITY_DEPART_index, CITY_DEPART_fact, CITY_ARRIVAL_index, CITY_ARRIVAL_fact, features"
     ]
    }
   ],
   "source": [
    "# Create a LogisticRegression Estimator\n",
    "lr = LogisticRegression()\n",
    "evaluator = evalu.BinaryClassificationEvaluator(metricName=\"areaUnderROC\")\n",
    "\n",
    "LogisticRegressionModel = lr.fit(train_data)\n",
    "\n",
    "test_results = LogisticRegressionModel.transform(test_data)\n",
    "print(evaluator.evaluate(test_results))"
   ]
  },
  {
   "cell_type": "code",
   "execution_count": null,
   "id": "a3ce3d75",
   "metadata": {},
   "outputs": [],
   "source": []
  }
 ],
 "metadata": {
  "kernelspec": {
   "display_name": "Python 3 (ipykernel)",
   "language": "python",
   "name": "python3"
  },
  "language_info": {
   "codemirror_mode": {
    "name": "ipython",
    "version": 3
   },
   "file_extension": ".py",
   "mimetype": "text/x-python",
   "name": "python",
   "nbconvert_exporter": "python",
   "pygments_lexer": "ipython3",
   "version": "3.9.7"
  },
  "vscode": {
   "interpreter": {
    "hash": "13593db172a9d6a67925af8e48e8a6a46dc5052ecd13180d30a4f6689a36f307"
   }
  }
 },
 "nbformat": 4,
 "nbformat_minor": 5
}
