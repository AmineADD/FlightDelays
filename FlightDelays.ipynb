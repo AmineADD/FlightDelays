{
 "cells": [
  {
   "cell_type": "code",
   "execution_count": 162,
   "id": "1f59206a-e43c-4980-bb65-c955fa67184a",
   "metadata": {},
   "outputs": [],
   "source": [
    "#Import Libraries\n",
    "\n",
    "from pyspark.sql import SparkSession\n",
    "from pyspark.sql.functions import *"
   ]
  },
  {
   "cell_type": "code",
   "execution_count": 163,
   "id": "dbde520d-2e0e-4746-8c2d-5572eb9c103e",
   "metadata": {},
   "outputs": [],
   "source": [
    "#Configuration Jobs\n",
    "\n",
    "spark = SparkSession \\\n",
    "    .builder \\\n",
    "    .appName(\"Flights\") \\\n",
    "    .getOrCreate()"
   ]
  },
  {
   "cell_type": "code",
   "execution_count": 164,
   "id": "60a40ed5-ccf2-429b-a336-6ad834909e89",
   "metadata": {},
   "outputs": [],
   "source": [
    "#Load csv Data to DataFrame"
   ]
  },
  {
   "cell_type": "code",
   "execution_count": 165,
   "id": "7d8fe8ce-e5d5-4ce5-b400-ff9fa6885ec7",
   "metadata": {},
   "outputs": [],
   "source": [
    "#Flights\n",
    "flightsDF= spark.read.option(\"header\",\"true\").csv(\"./Data/flights.csv\")\n",
    "#Airports\n",
    "airportsDF= spark.read.option(\"header\",\"true\").csv(\"./Data/airports.csv\")\n",
    "#Airline\n",
    "airlinesDF= spark.read.option(\"header\",\"true\").csv(\"./Data/airlines.csv\")"
   ]
  },
  {
   "cell_type": "code",
   "execution_count": 166,
   "id": "3aee27e6-9086-46cb-b9cb-3f71bfb63c85",
   "metadata": {
    "scrolled": true
   },
   "outputs": [],
   "source": [
    "#Functions to transform or remove columns\n",
    "def RemoveColumnsFunction(df: DataFrame, columns_to_drop: ['']) -> DataFrame:\n",
    "    return df.drop(*columns_to_drop)"
   ]
  },
  {
   "cell_type": "code",
   "execution_count": 167,
   "id": "3e99f8b4",
   "metadata": {},
   "outputs": [],
   "source": [
    "#join airlines to flights to avoid code\n",
    "flightsDF = flightsDF.join(airlinesDF,flightsDF.AIRLINE ==  airlinesDF.IATA_CODE,\"inner\").drop(flightsDF.AIRLINE).drop(col(\"IATA_CODE\")).withColumnRenamed(\"AIRLINE\",\"AIRLINE_\") \n",
    "flightsDF = flightsDF.join(airportsDF,flightsDF.ORIGIN_AIRPORT ==  airportsDF.IATA_CODE,\"inner\").withColumnRenamed(\"CITY\",\"CITY_DEPART_\") \n",
    "columns_to_drop = ['ORIGIN_AIRPORT', 'IATA_CODE','AIRPORT','CITY','STATE','COUNTRY','LATITUDE','LONGITUDE']\n",
    "flightsDF = RemoveColumnsFunction(flightsDF, columns_to_drop)\n",
    "flightsDF = flightsDF.join(airportsDF,flightsDF.DESTINATION_AIRPORT ==  airportsDF.IATA_CODE,\"inner\").withColumnRenamed(\"CITY\",\"CITY_ARRIVAL_\") \n",
    "flightsDF = RemoveColumnsFunction(flightsDF, columns_to_drop)"
   ]
  },
  {
   "cell_type": "code",
   "execution_count": 168,
   "id": "91d19013",
   "metadata": {},
   "outputs": [],
   "source": [
    "# create date from year, month and day"
   ]
  },
  {
   "cell_type": "code",
   "execution_count": 169,
   "id": "5e2d1c06-f55b-4267-8736-94f97abeec85",
   "metadata": {},
   "outputs": [],
   "source": [
    "cols=[\"YEAR\",\"MONTH\",\"DAY\"]"
   ]
  },
  {
   "cell_type": "code",
   "execution_count": 170,
   "id": "67b4e174",
   "metadata": {},
   "outputs": [],
   "source": [
    "flightsDF = flightsDF.withColumn(\"DATE\",concat_ws(\"-\",*cols).cast(\"date\"))"
   ]
  },
  {
   "cell_type": "code",
   "execution_count": 171,
   "id": "27b110ac",
   "metadata": {},
   "outputs": [],
   "source": [
    "flightsDF = flightsDF.drop(*cols)"
   ]
  },
  {
   "cell_type": "code",
   "execution_count": 172,
   "id": "8ce27888",
   "metadata": {},
   "outputs": [],
   "source": [
    "# remove unecessary columns\n",
    "columns_to_drop = [\n",
    "  \"TAXI_OUT\",\n",
    "  \"TAXI_IN\",\n",
    "  \"WHEELS_ON\",\n",
    "  \"WHEELS_OFF\",\n",
    "  \"YEAR\",\n",
    "  \"MONTH\",\n",
    "  \"DAY\",\n",
    "  \"DAY_OF_WEEK\",\n",
    "  \"AIR_SYSTEM_DELAY\",\n",
    "  \"SECURITY_DELAY\",\n",
    "  \"AIRLINE_DELAY\",\n",
    "  \"LATE_AIRCRAFT_DELAY\",\n",
    "  \"WEATHER_DELAY\",\n",
    "  \"DIVERTED\",\n",
    "  \"CANCELLED\",\n",
    "  \"CANCELLATION_REASON\",\n",
    "  \"FLIGHT_NUMBER\",\n",
    "  \"TAIL_NUMBER\",\n",
    "  \"AIR_TIME\",\n",
    "]"
   ]
  },
  {
   "cell_type": "code",
   "execution_count": 173,
   "id": "78769bc2",
   "metadata": {},
   "outputs": [],
   "source": [
    "flightsDF = flightsDF.drop(*columns_to_drop)"
   ]
  },
  {
   "cell_type": "code",
   "execution_count": 174,
   "id": "1fc5eb29",
   "metadata": {
    "scrolled": false
   },
   "outputs": [
    {
     "name": "stdout",
     "output_type": "stream",
     "text": [
      "+-------------------+-------------------+--------------+---------------+--------------+------------+--------+-----------------+------------+-------------+--------------------+--------------+-----------------+----------+\n",
      "|DESTINATION_AIRPORT|SCHEDULED_DEPARTURE|DEPARTURE_TIME|DEPARTURE_DELAY|SCHEDULED_TIME|ELAPSED_TIME|DISTANCE|SCHEDULED_ARRIVAL|ARRIVAL_TIME|ARRIVAL_DELAY|            AIRLINE_|  CITY_DEPART_|    CITY_ARRIVAL_|      DATE|\n",
      "+-------------------+-------------------+--------------+---------------+--------------+------------+--------+-----------------+------------+-------------+--------------------+--------------+-----------------+----------+\n",
      "|                SEA|               0005|          2354|            -11|           205|         194|    1448|             0430|        0408|          -22|Alaska Airlines Inc.|     Anchorage|          Seattle|2015-01-01|\n",
      "|                PBI|               0010|          0002|             -8|           280|         279|    2330|             0750|        0741|           -9|American Airlines...|   Los Angeles|  West Palm Beach|2015-01-01|\n",
      "|                CLT|               0020|          0018|             -2|           286|         293|    2296|             0806|        0811|            5|     US Airways Inc.| San Francisco|        Charlotte|2015-01-01|\n",
      "|                MIA|               0020|          0015|             -5|           285|         281|    2342|             0805|        0756|           -9|American Airlines...|   Los Angeles|            Miami|2015-01-01|\n",
      "|                ANC|               0025|          0024|             -1|           235|         215|    1448|             0320|        0259|          -21|Alaska Airlines Inc.|       Seattle|        Anchorage|2015-01-01|\n",
      "|                MSP|               0025|          0020|             -5|           217|         230|    1589|             0602|        0610|            8|Delta Air Lines Inc.| San Francisco|      Minneapolis|2015-01-01|\n",
      "|                MSP|               0025|          0019|             -6|           181|         170|    1299|             0526|        0509|          -17|    Spirit Air Lines|     Las Vegas|      Minneapolis|2015-01-01|\n",
      "|                CLT|               0030|          0044|             14|           273|         249|    2125|             0803|        0753|          -10|     US Airways Inc.|   Los Angeles|        Charlotte|2015-01-01|\n",
      "|                DFW|               0030|          0019|            -11|           195|         193|    1464|             0545|        0532|          -13|American Airlines...| San Francisco|Dallas-Fort Worth|2015-01-01|\n",
      "|                ATL|               0030|          0033|              3|           221|         203|    1747|             0711|        0656|          -15|Delta Air Lines Inc.|     Las Vegas|          Atlanta|2015-01-01|\n",
      "|                ATL|               0030|          0024|             -6|           173|         149|    1199|             0523|        0453|          -30|Delta Air Lines Inc.|        Denver|          Atlanta|2015-01-01|\n",
      "|                MIA|               0035|          0027|             -8|           268|         266|    2174|             0803|        0753|          -10|American Airlines...|     Las Vegas|            Miami|2015-01-01|\n",
      "|                MSP|               0035|          0035|              0|           214|         210|    1535|             0609|        0605|           -4|Delta Air Lines Inc.|   Los Angeles|      Minneapolis|2015-01-01|\n",
      "|                ATL|               0040|          0034|             -6|           215|         199|    1590|             0615|        0553|          -22|Delta Air Lines Inc.|Salt Lake City|          Atlanta|2015-01-01|\n",
      "|                MSP|               0040|          0039|             -1|           189|         198|    1399|             0549|        0557|            8|Delta Air Lines Inc.|       Seattle|      Minneapolis|2015-01-01|\n",
      "|                SEA|               0045|          0041|             -4|           204|         194|    1448|             0509|        0455|          -14|Alaska Airlines Inc.|     Anchorage|          Seattle|2015-01-01|\n",
      "|                SEA|               0045|          0031|            -14|           210|         200|    1448|             0515|        0451|          -24|Delta Air Lines Inc.|     Anchorage|          Seattle|2015-01-01|\n",
      "|                IAH|               0048|          0042|             -6|           218|         217|    1635|             0626|        0619|           -7|United Air Lines ...| San Francisco|          Houston|2015-01-01|\n",
      "|                PDX|               0050|          0046|             -4|           215|         201|    1542|             0525|        0507|          -18|Alaska Airlines Inc.|     Anchorage|         Portland|2015-01-01|\n",
      "|                MSP|               0050|          0045|             -5|           193|         186|    1426|             0603|        0551|          -12|Delta Air Lines Inc.|      Portland|      Minneapolis|2015-01-01|\n",
      "+-------------------+-------------------+--------------+---------------+--------------+------------+--------+-----------------+------------+-------------+--------------------+--------------+-----------------+----------+\n",
      "only showing top 20 rows\n",
      "\n"
     ]
    }
   ],
   "source": [
    "flightsDF.show()"
   ]
  },
  {
   "cell_type": "code",
   "execution_count": null,
   "id": "d1038d30",
   "metadata": {},
   "outputs": [],
   "source": []
  },
  {
   "cell_type": "code",
   "execution_count": null,
   "id": "426d0cd7",
   "metadata": {},
   "outputs": [],
   "source": []
  },
  {
   "cell_type": "code",
   "execution_count": null,
   "id": "0d1398cd",
   "metadata": {},
   "outputs": [],
   "source": []
  }
 ],
 "metadata": {
  "kernelspec": {
   "display_name": "Python 3 (ipykernel)",
   "language": "python",
   "name": "python3"
  },
  "language_info": {
   "codemirror_mode": {
    "name": "ipython",
    "version": 3
   },
   "file_extension": ".py",
   "mimetype": "text/x-python",
   "name": "python",
   "nbconvert_exporter": "python",
   "pygments_lexer": "ipython3",
   "version": "3.9.7"
  },
  "vscode": {
   "interpreter": {
    "hash": "13593db172a9d6a67925af8e48e8a6a46dc5052ecd13180d30a4f6689a36f307"
   }
  }
 },
 "nbformat": 4,
 "nbformat_minor": 5
}
