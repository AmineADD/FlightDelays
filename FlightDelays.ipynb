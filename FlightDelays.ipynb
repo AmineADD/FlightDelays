{
 "cells": [
  {
   "cell_type": "code",
   "execution_count": 118,
   "id": "1f59206a-e43c-4980-bb65-c955fa67184a",
   "metadata": {},
   "outputs": [],
   "source": [
    "#Import Libraries\n",
    "\n",
    "from pyspark.sql import SparkSession\n",
    "from pyspark.sql.functions import *"
   ]
  },
  {
   "cell_type": "code",
   "execution_count": 119,
   "id": "dbde520d-2e0e-4746-8c2d-5572eb9c103e",
   "metadata": {},
   "outputs": [],
   "source": [
    "#Configuration Jobs\n",
    "\n",
    "spark = SparkSession \\\n",
    "    .builder \\\n",
    "    .appName(\"Flights\") \\\n",
    "    .getOrCreate()"
   ]
  },
  {
   "cell_type": "code",
   "execution_count": 120,
   "id": "60a40ed5-ccf2-429b-a336-6ad834909e89",
   "metadata": {},
   "outputs": [],
   "source": [
    "#Load csv Data to DataFrame"
   ]
  },
  {
   "cell_type": "code",
   "execution_count": 121,
   "id": "7d8fe8ce-e5d5-4ce5-b400-ff9fa6885ec7",
   "metadata": {},
   "outputs": [],
   "source": [
    "#Flights\n",
    "flightsDF= spark.read.option(\"header\",\"true\").csv(\"./Data/flights.csv\")\n",
    "#Airports\n",
    "airportsDF= spark.read.option(\"header\",\"true\").csv(\"./Data/airports.csv\")\n",
    "#Airline\n",
    "airlinesDF= spark.read.option(\"header\",\"true\").csv(\"./Data/airlines.csv\")"
   ]
  },
  {
   "cell_type": "code",
   "execution_count": 122,
   "id": "a2a991e7-9c32-44fc-ab5d-fea5681389d6",
   "metadata": {},
   "outputs": [],
   "source": [
    "#Functions to transform or remove columns\n",
    "def RemoveUnnecessaryColumnsFunction(df: DataFrame) -> DataFrame:\n",
    "    columns_to_drop = [\n",
    "                        'ORIGIN_AIRPORT',\n",
    "                        'IATA_CODE',\n",
    "                        'AIRPORT',\n",
    "                        'CITY',\n",
    "                        'STATE',\n",
    "                        'COUNTRY',\n",
    "                        'LATITUDE',\n",
    "                        'LONGITUDE']\n",
    "    return df.drop(*columns_to_drop)"
   ]
  },
  {
   "cell_type": "code",
   "execution_count": 123,
   "id": "3aee27e6-9086-46cb-b9cb-3f71bfb63c85",
   "metadata": {},
   "outputs": [],
   "source": [
    "#join airlines to flights to avoid code\n",
    "flightsDF = flightsDF.join(airlinesDF,flightsDF.AIRLINE ==  airlinesDF.IATA_CODE,\"inner\").drop(flightsDF.AIRLINE).drop(col(\"IATA_CODE\")).withColumnRenamed(\"AIRLINE\",\"AIRLINE_\") \n",
    "flightsDF = flightsDF.join(airportsDF,flightsDF.ORIGIN_AIRPORT ==  airportsDF.IATA_CODE,\"inner\").withColumnRenamed(\"CITY\",\"CITY_DEPART_\") \n",
    "flightsDF = RemoveUnnecessaryColumnsFunction(flightsDF)\n",
    "flightsDF = flightsDF.join(airportsDF,flightsDF.DESTINATION_AIRPORT ==  airportsDF.IATA_CODE,\"inner\").withColumnRenamed(\"CITY\",\"CITY_ARRIVAL_\").drop(col(\"DESTINATION_AIRPORT\")) \n",
    "flightsDF = RemoveUnnecessaryColumnsFunction(flightsDF)"
   ]
  },
  {
   "cell_type": "code",
   "execution_count": 124,
   "id": "3f0aac24-69bd-4346-93be-f690b3d54b1b",
   "metadata": {},
   "outputs": [
    {
     "name": "stdout",
     "output_type": "stream",
     "text": [
      "+-------------+-----------+-------------------+--------------+---------------+--------+----------+--------------+------------+--------+--------+---------+-------+-----------------+------------+-------------+--------+---------+-------------------+----------------+--------------+-------------+-------------------+-------------+--------------------+------------+-------------+----------+\n",
      "|FLIGHT_NUMBER|TAIL_NUMBER|SCHEDULED_DEPARTURE|DEPARTURE_TIME|DEPARTURE_DELAY|TAXI_OUT|WHEELS_OFF|SCHEDULED_TIME|ELAPSED_TIME|AIR_TIME|DISTANCE|WHEELS_ON|TAXI_IN|SCHEDULED_ARRIVAL|ARRIVAL_TIME|ARRIVAL_DELAY|DIVERTED|CANCELLED|CANCELLATION_REASON|AIR_SYSTEM_DELAY|SECURITY_DELAY|AIRLINE_DELAY|LATE_AIRCRAFT_DELAY|WEATHER_DELAY|            AIRLINE_|CITY_DEPART_|CITY_ARRIVAL_|     DATE_|\n",
      "+-------------+-----------+-------------------+--------------+---------------+--------+----------+--------------+------------+--------+--------+---------+-------+-----------------+------------+-------------+--------+---------+-------------------+----------------+--------------+-------------+-------------------+-------------+--------------------+------------+-------------+----------+\n",
      "|           98|     N407AS|               0005|          2354|            -11|      21|      0015|           205|         194|     169|    1448|     0404|      4|             0430|        0408|          -22|       0|        0|               null|            null|          null|         null|               null|         null|Alaska Airlines Inc.|   Anchorage|      Seattle|2015-01-01|\n",
      "+-------------+-----------+-------------------+--------------+---------------+--------+----------+--------------+------------+--------+--------+---------+-------+-----------------+------------+-------------+--------+---------+-------------------+----------------+--------------+-------------+-------------------+-------------+--------------------+------------+-------------+----------+\n",
      "only showing top 1 row\n",
      "\n"
     ]
    }
   ],
   "source": [
    "#Transform Date\n",
    "\n",
    "flightsDF = flightsDF.withColumn('DATE_', to_date(concat_ws('-',flightsDF.YEAR,flightsDF.MONTH,flightsDF.DAY))).drop(*['YEAR','MONTH','DAY','DAY_OF_WEEK'])\n",
    "flightsDF = RemoveUnnecessaryColumnsFunction(flightsDF);\n",
    "flightsDF.show(1);\n"
   ]
  },
  {
   "cell_type": "code",
   "execution_count": null,
   "id": "b397a3f1-ff19-4bba-a3ed-391025be70a2",
   "metadata": {},
   "outputs": [],
   "source": []
  },
  {
   "cell_type": "code",
   "execution_count": null,
   "id": "da0cb117-3285-4b90-b913-084624315708",
   "metadata": {},
   "outputs": [],
   "source": []
  }
 ],
 "metadata": {
  "kernelspec": {
   "display_name": "Python 3 (ipykernel)",
   "language": "python",
   "name": "python3"
  },
  "language_info": {
   "codemirror_mode": {
    "name": "ipython",
    "version": 3
   },
   "file_extension": ".py",
   "mimetype": "text/x-python",
   "name": "python",
   "nbconvert_exporter": "python",
   "pygments_lexer": "ipython3",
   "version": "3.10.6"
  }
 },
 "nbformat": 4,
 "nbformat_minor": 5
}
