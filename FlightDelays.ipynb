{
 "cells": [
  {
   "cell_type": "markdown",
   "id": "3bfbc120-35b3-4ae5-9399-0b39fafe37ef",
   "metadata": {
    "tags": []
   },
   "source": [
    "<h1>Data set : Flight delays & cancellations</h1>"
   ]
  },
  {
   "cell_type": "markdown",
   "id": "00b6a786-9812-47c3-a882-3e3a2db901a7",
   "metadata": {},
   "source": [
    "<span>DEV 2 : EFREI 2022-2023</span>\n",
    "<ul>\n",
    "<li>Amine</li>\n",
    "<li>Fabian</li>\n",
    "</ul>"
   ]
  },
  {
   "cell_type": "code",
   "execution_count": 530,
   "id": "1f59206a-e43c-4980-bb65-c955fa67184a",
   "metadata": {},
   "outputs": [],
   "source": [
    "#Import Libraries\n",
    "import numpy as np \n",
    "from pyspark.sql.functions import *\n",
    "from pyspark.ml.feature import *\n",
    "from pyspark.ml import Pipeline\n",
    "from pyspark.sql import SparkSession\n",
    "from pyspark.ml.classification import LogisticRegression\n",
    "import pyspark.ml.evaluation as evalu"
   ]
  },
  {
   "cell_type": "code",
   "execution_count": 531,
   "id": "dbde520d-2e0e-4746-8c2d-5572eb9c103e",
   "metadata": {},
   "outputs": [],
   "source": [
    "#Configuration Jobs\n",
    "\n",
    "spark = SparkSession \\\n",
    "    .builder \\\n",
    "    .appName(\"Flights\") \\\n",
    "    .getOrCreate()\n",
    "\n",
    "spark.conf.set('spark.sql.repl.eagerEval.enabled',True)"
   ]
  },
  {
   "cell_type": "markdown",
   "id": "ec4f5e86-31c9-4b0d-8d17-9b7ab5ec8ef1",
   "metadata": {},
   "source": [
    "<h2>Load csv Data from 3 sources to DataFrame</h2>"
   ]
  },
  {
   "cell_type": "code",
   "execution_count": 532,
   "id": "7d8fe8ce-e5d5-4ce5-b400-ff9fa6885ec7",
   "metadata": {},
   "outputs": [],
   "source": [
    "#Flights\n",
    "flightsDF= spark.read.option(\"header\",\"true\").csv(\"./Data/flights.csv\")\n",
    "#Airports\n",
    "airportsDF= spark.read.option(\"header\",\"true\").csv(\"./Data/airports.csv\")\n",
    "#Airline\n",
    "airlinesDF= spark.read.option(\"header\",\"true\").csv(\"./Data/airlines.csv\")"
   ]
  },
  {
   "cell_type": "markdown",
   "id": "e10e5c24-4d6b-4c1c-8607-1e93a2dce9e7",
   "metadata": {},
   "source": [
    "<h2>Functions transform or PreProcessing</h2>"
   ]
  },
  {
   "cell_type": "code",
   "execution_count": 533,
   "id": "a2a991e7-9c32-44fc-ab5d-fea5681389d6",
   "metadata": {},
   "outputs": [],
   "source": [
    "#Functions to transform or remove columns\n",
    "def RemoveUnnecessaryColumnsFunction(df: DataFrame) -> DataFrame:\n",
    "    columns_to_drop = [\n",
    "                        'ORIGIN_AIRPORT',\n",
    "                        'IATA_CODE',\n",
    "                        'AIRPORT',\n",
    "                        'CITY',\n",
    "                        'STATE',\n",
    "                        'COUNTRY',\n",
    "                        'LATITUDE',\n",
    "                        'LONGITUDE']\n",
    "    return df.drop(*columns_to_drop)"
   ]
  },
  {
   "cell_type": "markdown",
   "id": "e06dcd7d-dcbc-4b11-bc69-5e989b831865",
   "metadata": {},
   "source": [
    "<h2>All to 1 DataFrame FlightsDF instead of 3</h2>"
   ]
  },
  {
   "cell_type": "code",
   "execution_count": 534,
   "id": "3aee27e6-9086-46cb-b9cb-3f71bfb63c85",
   "metadata": {},
   "outputs": [],
   "source": [
    "#join airlines to flights to avoid code\n",
    "flightsDF = flightsDF.join(airlinesDF,flightsDF.AIRLINE ==  airlinesDF.IATA_CODE,\"inner\").drop(flightsDF.AIRLINE).drop(col(\"IATA_CODE\")).withColumnRenamed(\"AIRLINE\",\"AIRLINE_\") \n",
    "flightsDF = flightsDF.join(airportsDF,flightsDF.ORIGIN_AIRPORT ==  airportsDF.IATA_CODE,\"inner\").withColumnRenamed(\"CITY\",\"CITY_DEPART_\") \n",
    "flightsDF = RemoveUnnecessaryColumnsFunction(flightsDF)\n",
    "flightsDF = flightsDF.join(airportsDF,flightsDF.DESTINATION_AIRPORT ==  airportsDF.IATA_CODE,\"inner\").withColumnRenamed(\"CITY\",\"CITY_ARRIVAL_\").drop(col(\"DESTINATION_AIRPORT\")) \n",
    "flightsDF = RemoveUnnecessaryColumnsFunction(flightsDF)"
   ]
  },
  {
   "cell_type": "markdown",
   "id": "467b060d-fd16-4248-91b8-2323a8dd5def",
   "metadata": {},
   "source": [
    "<h2>Data</h2>"
   ]
  },
  {
   "cell_type": "code",
   "execution_count": 535,
   "id": "3f0aac24-69bd-4346-93be-f690b3d54b1b",
   "metadata": {},
   "outputs": [],
   "source": [
    "#Transform Date\n",
    "#flightsDF = flightsDF.withColumn('DATE_', to_date(concat_ws('-',flightsDF.YEAR,flightsDF.MONTH,flightsDF.DAY))).drop(*['YEAR','MONTH','DAY','DAY_OF_WEEK'])"
   ]
  },
  {
   "cell_type": "code",
   "execution_count": 536,
   "id": "a14f7cab-9f9f-49dc-862c-97ae5a123d7b",
   "metadata": {},
   "outputs": [
    {
     "name": "stdout",
     "output_type": "stream",
     "text": [
      "Count Flights :  306160  Count columns: 31\n",
      "Flights numbers :  6327\n"
     ]
    },
    {
     "data": {
      "text/html": [
       "<table border='1'>\n",
       "<tr><th>CITY_DEPART_</th><th>CITY_ARRIVAL_</th><th>count</th></tr>\n",
       "<tr><td>New York</td><td>Chicago</td><td>760</td></tr>\n",
       "<tr><td>Chicago</td><td>New York</td><td>753</td></tr>\n",
       "<tr><td>Los Angeles</td><td>New York</td><td>744</td></tr>\n",
       "<tr><td>New York</td><td>Los Angeles</td><td>743</td></tr>\n",
       "<tr><td>San Francisco</td><td>Los Angeles</td><td>713</td></tr>\n",
       "<tr><td>Los Angeles</td><td>San Francisco</td><td>707</td></tr>\n",
       "<tr><td>Boston</td><td>New York</td><td>706</td></tr>\n",
       "<tr><td>New York</td><td>Boston</td><td>703</td></tr>\n",
       "<tr><td>Ft. Lauderdale</td><td>New York</td><td>622</td></tr>\n",
       "<tr><td>New York</td><td>Ft. Lauderdale</td><td>620</td></tr>\n",
       "<tr><td>Las Vegas</td><td>Los Angeles</td><td>619</td></tr>\n",
       "<tr><td>Miami</td><td>New York</td><td>611</td></tr>\n",
       "<tr><td>New York</td><td>Miami</td><td>610</td></tr>\n",
       "<tr><td>Los Angeles</td><td>Las Vegas</td><td>602</td></tr>\n",
       "<tr><td>Chicago</td><td>Atlanta</td><td>576</td></tr>\n",
       "<tr><td>Atlanta</td><td>Chicago</td><td>571</td></tr>\n",
       "<tr><td>New York</td><td>Atlanta</td><td>563</td></tr>\n",
       "<tr><td>Atlanta</td><td>New York</td><td>563</td></tr>\n",
       "<tr><td>Minneapolis</td><td>Chicago</td><td>540</td></tr>\n",
       "<tr><td>New York</td><td>Orlando</td><td>539</td></tr>\n",
       "</table>\n",
       "only showing top 20 rows\n"
      ],
      "text/plain": [
       "+--------------+--------------+-----+\n",
       "|  CITY_DEPART_| CITY_ARRIVAL_|count|\n",
       "+--------------+--------------+-----+\n",
       "|      New York|       Chicago|  760|\n",
       "|       Chicago|      New York|  753|\n",
       "|   Los Angeles|      New York|  744|\n",
       "|      New York|   Los Angeles|  743|\n",
       "| San Francisco|   Los Angeles|  713|\n",
       "|   Los Angeles| San Francisco|  707|\n",
       "|        Boston|      New York|  706|\n",
       "|      New York|        Boston|  703|\n",
       "|Ft. Lauderdale|      New York|  622|\n",
       "|      New York|Ft. Lauderdale|  620|\n",
       "|     Las Vegas|   Los Angeles|  619|\n",
       "|         Miami|      New York|  611|\n",
       "|      New York|         Miami|  610|\n",
       "|   Los Angeles|     Las Vegas|  602|\n",
       "|       Chicago|       Atlanta|  576|\n",
       "|       Atlanta|       Chicago|  571|\n",
       "|      New York|       Atlanta|  563|\n",
       "|       Atlanta|      New York|  563|\n",
       "|   Minneapolis|       Chicago|  540|\n",
       "|      New York|       Orlando|  539|\n",
       "+--------------+--------------+-----+\n",
       "only showing top 20 rows"
      ]
     },
     "execution_count": 536,
     "metadata": {},
     "output_type": "execute_result"
    }
   ],
   "source": [
    "print(\"Count Flights : \",flightsDF.count(),\" Count columns:\", len(flightsDF.columns))\n",
    "print(\"Flights numbers : \",flightsDF.select('FLIGHT_NUMBER').distinct().count())  # 6327 num de vol unique\n",
    "#print(flightsDF.groupBy('FLIGHT_NUMBER').count().orderBy('count', ascending=False))\n",
    "flightsDF.groupBy(*['CITY_DEPART_', 'CITY_ARRIVAL_']).count().orderBy('count', ascending=False)"
   ]
  },
  {
   "cell_type": "markdown",
   "id": "efbe2f9f-91de-4e79-a620-65d18d321b4d",
   "metadata": {},
   "source": [
    "<h1>Flights canceled</h1>"
   ]
  },
  {
   "cell_type": "code",
   "execution_count": 537,
   "id": "f2152091-2cd5-4c20-ac27-ce95b8eea6e8",
   "metadata": {},
   "outputs": [
    {
     "name": "stdout",
     "output_type": "stream",
     "text": [
      "Canceled flight :  6424\n"
     ]
    }
   ],
   "source": [
    "canceledFlight = flightsDF.filter(flightsDF.AIR_TIME.isNull())\n",
    "print(\"Canceled flight : \" , canceledFlight.count());"
   ]
  },
  {
   "cell_type": "markdown",
   "id": "0f91001a-1e6b-43de-8a1f-701c01578493",
   "metadata": {},
   "source": [
    "<h2>Flights not canceled </h2>"
   ]
  },
  {
   "cell_type": "code",
   "execution_count": 538,
   "id": "b087aa9c-d573-48d8-9c55-e9020da695d4",
   "metadata": {},
   "outputs": [
    {
     "name": "stdout",
     "output_type": "stream",
     "text": [
      "Not canceled flight :  299736\n"
     ]
    },
    {
     "data": {
      "text/html": [
       "<table border='1'>\n",
       "<tr><th>ARRIVAL_DELAY</th></tr>\n",
       "<tr><td>-22</td></tr>\n",
       "<tr><td>-9</td></tr>\n",
       "<tr><td>5</td></tr>\n",
       "<tr><td>-9</td></tr>\n",
       "<tr><td>-21</td></tr>\n",
       "<tr><td>8</td></tr>\n",
       "<tr><td>-17</td></tr>\n",
       "<tr><td>-10</td></tr>\n",
       "<tr><td>-13</td></tr>\n",
       "<tr><td>-15</td></tr>\n",
       "<tr><td>-30</td></tr>\n",
       "<tr><td>-10</td></tr>\n",
       "<tr><td>-4</td></tr>\n",
       "<tr><td>-22</td></tr>\n",
       "<tr><td>8</td></tr>\n",
       "<tr><td>-14</td></tr>\n",
       "<tr><td>-24</td></tr>\n",
       "<tr><td>-7</td></tr>\n",
       "<tr><td>-18</td></tr>\n",
       "<tr><td>-12</td></tr>\n",
       "</table>\n",
       "only showing top 20 rows\n"
      ],
      "text/plain": [
       "+-------------+\n",
       "|ARRIVAL_DELAY|\n",
       "+-------------+\n",
       "|          -22|\n",
       "|           -9|\n",
       "|            5|\n",
       "|           -9|\n",
       "|          -21|\n",
       "|            8|\n",
       "|          -17|\n",
       "|          -10|\n",
       "|          -13|\n",
       "|          -15|\n",
       "|          -30|\n",
       "|          -10|\n",
       "|           -4|\n",
       "|          -22|\n",
       "|            8|\n",
       "|          -14|\n",
       "|          -24|\n",
       "|           -7|\n",
       "|          -18|\n",
       "|          -12|\n",
       "+-------------+\n",
       "only showing top 20 rows"
      ]
     },
     "execution_count": 538,
     "metadata": {},
     "output_type": "execute_result"
    }
   ],
   "source": [
    "notCanceledFlight = flightsDF.filter(flightsDF.ARRIVAL_DELAY.isNotNull() & flightsDF.AIR_TIME.isNotNull() & flightsDF.AIRLINE_.isNotNull() &  flightsDF.TAIL_NUMBER.isNotNull())\n",
    "print(\"Not canceled flight : \" , notCanceledFlight.count());\n",
    "notCanceledFlight.select(notCanceledFlight[\"ARRIVAL_DELAY\"])"
   ]
  },
  {
   "cell_type": "markdown",
   "id": "05a7b589-7b7c-4755-8dee-1f4b8d37f8ac",
   "metadata": {},
   "source": [
    "<h1>Transform & Create Indexer & OneHotEncoder</h1>"
   ]
  },
  {
   "cell_type": "code",
   "execution_count": 539,
   "id": "4fb9be93-e15f-4bde-9d4c-34daf8c7e48e",
   "metadata": {},
   "outputs": [
    {
     "name": "stdout",
     "output_type": "stream",
     "text": [
      "is Late Flight +--------+------+\n",
      "|IS_LATE_| count|\n",
      "+--------+------+\n",
      "|    true|131710|\n",
      "|   false|168026|\n",
      "+--------+------+\n",
      "\n"
     ]
    }
   ],
   "source": [
    "#Transform\n",
    "#  supported types\n",
    "notCanceledFlight = notCanceledFlight.withColumn(\"MONTH\", notCanceledFlight.MONTH.cast(\"integer\"))\n",
    "notCanceledFlight = notCanceledFlight.withColumn(\"DAY_OF_WEEK\", notCanceledFlight.DAY_OF_WEEK.cast(\"integer\"))\n",
    "notCanceledFlight = notCanceledFlight.withColumn(\"AIR_TIME\", notCanceledFlight.AIR_TIME.cast(\"integer\"))\n",
    "notCanceledFlight = notCanceledFlight.withColumn(\"DISTANCE\", notCanceledFlight.DISTANCE.cast(\"double\"))\n",
    "notCanceledFlight = notCanceledFlight.withColumn(\"ARRIVAL_DELAY\", notCanceledFlight.ARRIVAL_DELAY.cast(\"integer\"))\n",
    "\n",
    "#create nex isLate column\n",
    "\n",
    "# Create is_late\n",
    "notCanceledFlight = notCanceledFlight.withColumn(\"IS_LATE_\", notCanceledFlight.ARRIVAL_DELAY > 0)\n",
    "notCanceledFlight.limit(10)\n",
    "print('is Late Flight',notCanceledFlight.groupBy('IS_LATE_').count())\n",
    "notCanceledFlight = notCanceledFlight.withColumnRenamed(\"IS_LATE_\", 'label')\n",
    "notCanceledFlight = notCanceledFlight.withColumn(\"label\", notCanceledFlight.label.cast(\"integer\"))\n",
    "\n",
    "\n",
    "\n",
    "airline_indexer = StringIndexer(inputCol=\"AIRLINE_\", outputCol=\"AIRLINE_index\")\n",
    "airline_encoder = OneHotEncoder(inputCol=\"AIRLINE_index\", outputCol=\"AIRLINE_fact\")\n",
    "\n",
    "dest_indexer = StringIndexer(inputCol=\"CITY_ARRIVAL_\", outputCol=\"CITY_ARRIVAL_index\")\n",
    "dest_encoder = OneHotEncoder(inputCol=\"CITY_ARRIVAL_index\", outputCol=\"CITY_ARRIVAL_fact\")\n",
    "\n",
    "tail_indexer = StringIndexer(inputCol=\"TAIL_NUMBER\", outputCol=\"TAIL_NUMBER_index\")\n",
    "tail_encoder = OneHotEncoder(inputCol=\"TAIL_NUMBER_index\", outputCol=\"TAIL_NUMBER_fact\")"
   ]
  },
  {
   "cell_type": "markdown",
   "id": "c3a6a8da-8f0c-4f7b-97d7-a5b6774e689d",
   "metadata": {},
   "source": [
    "<h1>VectorAssembler</h1>"
   ]
  },
  {
   "cell_type": "code",
   "execution_count": 540,
   "id": "f64639d5-f574-48d4-89e9-56dc5843d531",
   "metadata": {},
   "outputs": [],
   "source": [
    "vec_assembler = VectorAssembler(inputCols=[\n",
    "    \"MONTH\", \n",
    "    \"DAY_OF_WEEK\", \n",
    "    \"AIR_TIME\",\n",
    "    \"DISTANCE\",\n",
    "    \"AIRLINE_fact\", \n",
    "    \"CITY_ARRIVAL_fact\", \n",
    "    \"TAIL_NUMBER_fact\"\n",
    "], outputCol=\"features\")"
   ]
  },
  {
   "cell_type": "markdown",
   "id": "482fbadc-b326-428a-a2d0-98d7e336aa18",
   "metadata": {},
   "source": [
    "<h1>PipeLine  & transform data again</h1>"
   ]
  },
  {
   "cell_type": "code",
   "execution_count": 541,
   "id": "8b0e3de8-498c-4205-939e-596ebd5ef817",
   "metadata": {},
   "outputs": [
    {
     "name": "stdout",
     "output_type": "stream",
     "text": [
      "data points(rows) in train data : 209837\n",
      "data points(rows) in test data : 89899\n"
     ]
    }
   ],
   "source": [
    "flights_pipe = Pipeline(stages=[dest_indexer, dest_encoder, airline_indexer, airline_encoder, tail_indexer, tail_encoder, vec_assembler])\n",
    "\n",
    "piped_data = flights_pipe.fit(notCanceledFlight).transform(notCanceledFlight)\n",
    "\n",
    "train_data, test_data = piped_data.randomSplit([.7, .3])\n",
    "\n",
    "print('data points(rows) in train data :',  train_data.count())\n",
    "print('data points(rows) in test data :',  test_data.count())\n"
   ]
  },
  {
   "cell_type": "markdown",
   "id": "23503803-4034-4094-89fc-75c74e20f0f8",
   "metadata": {},
   "source": [
    "<h1>Trainning data</h1>"
   ]
  },
  {
   "cell_type": "code",
   "execution_count": 542,
   "id": "c8530c70-6c39-4cc5-a023-966d91cfc006",
   "metadata": {},
   "outputs": [
    {
     "name": "stdout",
     "output_type": "stream",
     "text": [
      "0.6218575807200716\n"
     ]
    }
   ],
   "source": [
    "# Create a LogisticRegression Estimator\n",
    "lr = LogisticRegression()\n",
    "evaluator = evalu.BinaryClassificationEvaluator(metricName=\"areaUnderROC\")\n",
    "\n",
    "LogisticRegressionModel = lr.fit(train_data)\n",
    "\n",
    "test_results = LogisticRegressionModel.transform(test_data)\n",
    "print(evaluator.evaluate(test_results))\n"
   ]
  }
 ],
 "metadata": {
  "kernelspec": {
   "display_name": "Python 3 (ipykernel)",
   "language": "python",
   "name": "python3"
  },
  "language_info": {
   "codemirror_mode": {
    "name": "ipython",
    "version": 3
   },
   "file_extension": ".py",
   "mimetype": "text/x-python",
   "name": "python",
   "nbconvert_exporter": "python",
   "pygments_lexer": "ipython3",
   "version": "3.10.6"
  }
 },
 "nbformat": 4,
 "nbformat_minor": 5
}
