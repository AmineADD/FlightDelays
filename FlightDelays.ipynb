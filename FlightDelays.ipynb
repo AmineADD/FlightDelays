{
 "cells": [
  {
   "cell_type": "code",
   "execution_count": 148,
   "id": "1f59206a-e43c-4980-bb65-c955fa67184a",
   "metadata": {},
   "outputs": [],
   "source": [
    "#Import Libraries\n",
    "\n",
    "from pyspark.sql import SparkSession\n",
    "from pyspark.sql.functions import *"
   ]
  },
  {
   "cell_type": "code",
   "execution_count": 149,
   "id": "dbde520d-2e0e-4746-8c2d-5572eb9c103e",
   "metadata": {},
   "outputs": [],
   "source": [
    "#Configuration Jobs\n",
    "\n",
    "#spark = SparkSession \\\n",
    "#    .builder \\\n",
    "#    .appName(\"Flights\") \\\n",
    "#    .getOrCreate()\n",
    "\n",
    "spark.conf.set('spark.sql.repl.eagerEval.enabled',True)"
   ]
  },
  {
   "cell_type": "code",
   "execution_count": 150,
   "id": "60a40ed5-ccf2-429b-a336-6ad834909e89",
   "metadata": {},
   "outputs": [],
   "source": [
    "#Load csv Data to DataFrame"
   ]
  },
  {
   "cell_type": "code",
   "execution_count": 151,
   "id": "7d8fe8ce-e5d5-4ce5-b400-ff9fa6885ec7",
   "metadata": {},
   "outputs": [],
   "source": [
    "#Flights\n",
    "flightsDF= spark.read.option(\"header\",\"true\").csv(\"./Data/flights.csv\")\n",
    "#Airports\n",
    "airportsDF= spark.read.option(\"header\",\"true\").csv(\"./Data/airports.csv\")\n",
    "#Airline\n",
    "airlinesDF= spark.read.option(\"header\",\"true\").csv(\"./Data/airlines.csv\")"
   ]
  },
  {
   "cell_type": "code",
   "execution_count": 152,
   "id": "a2a991e7-9c32-44fc-ab5d-fea5681389d6",
   "metadata": {},
   "outputs": [],
   "source": [
    "#Functions to transform or remove columns\n",
    "def RemoveUnnecessaryColumnsFunction(df: DataFrame) -> DataFrame:\n",
    "    columns_to_drop = [\n",
    "                        'ORIGIN_AIRPORT',\n",
    "                        'IATA_CODE',\n",
    "                        'AIRPORT',\n",
    "                        'CITY',\n",
    "                        'STATE',\n",
    "                        'COUNTRY',\n",
    "                        'LATITUDE',\n",
    "                        'LONGITUDE']\n",
    "    return df.drop(*columns_to_drop)"
   ]
  },
  {
   "cell_type": "code",
   "execution_count": 153,
   "id": "3aee27e6-9086-46cb-b9cb-3f71bfb63c85",
   "metadata": {},
   "outputs": [],
   "source": [
    "#join airlines to flights to avoid code\n",
    "flightsDF = flightsDF.join(airlinesDF,flightsDF.AIRLINE ==  airlinesDF.IATA_CODE,\"inner\").drop(flightsDF.AIRLINE).drop(col(\"IATA_CODE\")).withColumnRenamed(\"AIRLINE\",\"AIRLINE_\") \n",
    "flightsDF = flightsDF.join(airportsDF,flightsDF.ORIGIN_AIRPORT ==  airportsDF.IATA_CODE,\"inner\").withColumnRenamed(\"CITY\",\"CITY_DEPART_\") \n",
    "flightsDF = RemoveUnnecessaryColumnsFunction(flightsDF)\n",
    "flightsDF = flightsDF.join(airportsDF,flightsDF.DESTINATION_AIRPORT ==  airportsDF.IATA_CODE,\"inner\").withColumnRenamed(\"CITY\",\"CITY_ARRIVAL_\").drop(col(\"DESTINATION_AIRPORT\")) \n",
    "flightsDF = RemoveUnnecessaryColumnsFunction(flightsDF)"
   ]
  },
  {
   "cell_type": "code",
   "execution_count": 154,
   "id": "a14f7cab-9f9f-49dc-862c-97ae5a123d7b",
   "metadata": {},
   "outputs": [
    {
     "data": {
      "text/html": [
       "<table border='1'>\n",
       "<tr><th>FLIGHT_NUMBER</th><th>count</th></tr>\n",
       "<tr><td>345</td><td>230</td></tr>\n",
       "<tr><td>469</td><td>230</td></tr>\n",
       "<tr><td>711</td><td>213</td></tr>\n",
       "<tr><td>341</td><td>209</td></tr>\n",
       "<tr><td>404</td><td>208</td></tr>\n",
       "<tr><td>61</td><td>207</td></tr>\n",
       "<tr><td>745</td><td>201</td></tr>\n",
       "<tr><td>12</td><td>199</td></tr>\n",
       "<tr><td>188</td><td>198</td></tr>\n",
       "<tr><td>432</td><td>197</td></tr>\n",
       "<tr><td>316</td><td>192</td></tr>\n",
       "<tr><td>1159</td><td>191</td></tr>\n",
       "<tr><td>403</td><td>190</td></tr>\n",
       "<tr><td>315</td><td>190</td></tr>\n",
       "<tr><td>470</td><td>188</td></tr>\n",
       "<tr><td>1271</td><td>188</td></tr>\n",
       "<tr><td>122</td><td>188</td></tr>\n",
       "<tr><td>362</td><td>187</td></tr>\n",
       "<tr><td>454</td><td>186</td></tr>\n",
       "<tr><td>763</td><td>184</td></tr>\n",
       "</table>\n",
       "only showing top 20 rows\n"
      ],
      "text/plain": [
       "+-------------+-----+\n",
       "|FLIGHT_NUMBER|count|\n",
       "+-------------+-----+\n",
       "|          345|  230|\n",
       "|          469|  230|\n",
       "|          711|  213|\n",
       "|          341|  209|\n",
       "|          404|  208|\n",
       "|           61|  207|\n",
       "|          745|  201|\n",
       "|           12|  199|\n",
       "|          188|  198|\n",
       "|          432|  197|\n",
       "|          316|  192|\n",
       "|         1159|  191|\n",
       "|          403|  190|\n",
       "|          315|  190|\n",
       "|          470|  188|\n",
       "|         1271|  188|\n",
       "|          122|  188|\n",
       "|          362|  187|\n",
       "|          454|  186|\n",
       "|          763|  184|\n",
       "+-------------+-----+\n",
       "only showing top 20 rows"
      ]
     },
     "execution_count": 154,
     "metadata": {},
     "output_type": "execute_result"
    }
   ],
   "source": [
    "#flightsDF.select('FLIGHT_NUMBER').distinct().count()  # 6327 num de vol unique\n",
    "#flightsDF.groupBy('FLIGHT_NUMBER').count().orderBy('count', ascending=False)"
   ]
  },
  {
   "cell_type": "code",
   "execution_count": 155,
   "id": "3f0aac24-69bd-4346-93be-f690b3d54b1b",
   "metadata": {},
   "outputs": [
    {
     "data": {
      "text/html": [
       "<table border='1'>\n",
       "<tr><th>FLIGHT_NUMBER</th><th>TAIL_NUMBER</th><th>SCHEDULED_DEPARTURE</th><th>DEPARTURE_TIME</th><th>DEPARTURE_DELAY</th><th>TAXI_OUT</th><th>WHEELS_OFF</th><th>SCHEDULED_TIME</th><th>ELAPSED_TIME</th><th>AIR_TIME</th><th>DISTANCE</th><th>WHEELS_ON</th><th>TAXI_IN</th><th>SCHEDULED_ARRIVAL</th><th>ARRIVAL_TIME</th><th>ARRIVAL_DELAY</th><th>DIVERTED</th><th>CANCELLED</th><th>CANCELLATION_REASON</th><th>AIR_SYSTEM_DELAY</th><th>SECURITY_DELAY</th><th>AIRLINE_DELAY</th><th>LATE_AIRCRAFT_DELAY</th><th>WEATHER_DELAY</th><th>AIRLINE_</th><th>CITY_DEPART_</th><th>CITY_ARRIVAL_</th><th>DATE_</th></tr>\n",
       "<tr><td>840</td><td>N171US</td><td>0020</td><td>0018</td><td>-2</td><td>16</td><td>0034</td><td>286</td><td>293</td><td>266</td><td>2296</td><td>0800</td><td>11</td><td>0806</td><td>0811</td><td>5</td><td>0</td><td>0</td><td>null</td><td>null</td><td>null</td><td>null</td><td>null</td><td>null</td><td>US Airways Inc.</td><td>San Francisco</td><td>Charlotte</td><td>2015-01-01</td></tr>\n",
       "<tr><td>258</td><td>N3HYAA</td><td>0020</td><td>0015</td><td>-5</td><td>15</td><td>0030</td><td>285</td><td>281</td><td>258</td><td>2342</td><td>0748</td><td>8</td><td>0805</td><td>0756</td><td>-9</td><td>0</td><td>0</td><td>null</td><td>null</td><td>null</td><td>null</td><td>null</td><td>null</td><td>American Airlines...</td><td>Los Angeles</td><td>Miami</td><td>2015-01-01</td></tr>\n",
       "<tr><td>2440</td><td>N651DL</td><td>0040</td><td>0039</td><td>-1</td><td>28</td><td>0107</td><td>189</td><td>198</td><td>166</td><td>1399</td><td>0553</td><td>4</td><td>0549</td><td>0557</td><td>8</td><td>0</td><td>0</td><td>null</td><td>null</td><td>null</td><td>null</td><td>null</td><td>null</td><td>Delta Air Lines Inc.</td><td>Seattle</td><td>Minneapolis</td><td>2015-01-01</td></tr>\n",
       "<tr><td>1670</td><td>N806DN</td><td>0050</td><td>0045</td><td>-5</td><td>9</td><td>0054</td><td>193</td><td>186</td><td>171</td><td>1426</td><td>0545</td><td>6</td><td>0603</td><td>0551</td><td>-12</td><td>0</td><td>0</td><td>null</td><td>null</td><td>null</td><td>null</td><td>null</td><td>null</td><td>Delta Air Lines Inc.</td><td>Portland</td><td>Minneapolis</td><td>2015-01-01</td></tr>\n",
       "<tr><td>972</td><td>N606NK</td><td>0159</td><td>0158</td><td>-1</td><td>11</td><td>0209</td><td>123</td><td>125</td><td>103</td><td>868</td><td>0452</td><td>11</td><td>0502</td><td>0503</td><td>1</td><td>0</td><td>0</td><td>null</td><td>null</td><td>null</td><td>null</td><td>null</td><td>null</td><td>Spirit Air Lines</td><td>Phoenix</td><td>Dallas-Fort Worth</td><td>2015-01-01</td></tr>\n",
       "<tr><td>2134</td><td>N307JB</td><td>0400</td><td>0535</td><td>95</td><td>9</td><td>0544</td><td>185</td><td>175</td><td>163</td><td>1189</td><td>0727</td><td>3</td><td>0605</td><td>0730</td><td>85</td><td>0</td><td>0</td><td>null</td><td>0</td><td>0</td><td>85</td><td>0</td><td>0</td><td>JetBlue Airways</td><td>San Juan</td><td>Orlando</td><td>2015-01-01</td></tr>\n",
       "<tr><td>730</td><td>N423AS</td><td>0505</td><td>0457</td><td>-8</td><td>16</td><td>0513</td><td>205</td><td>199</td><td>179</td><td>1448</td><td>0912</td><td>4</td><td>0930</td><td>0916</td><td>-14</td><td>0</td><td>0</td><td>null</td><td>null</td><td>null</td><td>null</td><td>null</td><td>null</td><td>Alaska Airlines Inc.</td><td>Anchorage</td><td>Seattle</td><td>2015-01-01</td></tr>\n",
       "<tr><td>7419</td><td>N445SW</td><td>0510</td><td>0508</td><td>-2</td><td>21</td><td>0529</td><td>69</td><td>67</td><td>41</td><td>257</td><td>0610</td><td>5</td><td>0619</td><td>0615</td><td>-4</td><td>0</td><td>0</td><td>null</td><td>null</td><td>null</td><td>null</td><td>null</td><td>null</td><td>Skywest Airlines ...</td><td>Aberdeen</td><td>Minneapolis</td><td>2015-01-01</td></tr>\n",
       "<tr><td>1279</td><td>N918FR</td><td>0530</td><td>0526</td><td>-4</td><td>12</td><td>0538</td><td>160</td><td>146</td><td>128</td><td>861</td><td>0746</td><td>6</td><td>0810</td><td>0752</td><td>-18</td><td>0</td><td>0</td><td>null</td><td>null</td><td>null</td><td>null</td><td>null</td><td>null</td><td>Frontier Airlines...</td><td>Philadelphia</td><td>Orlando</td><td>2015-01-01</td></tr>\n",
       "<tr><td>5184</td><td>N776SK</td><td>0540</td><td>0537</td><td>-3</td><td>18</td><td>0555</td><td>193</td><td>180</td><td>158</td><td>1195</td><td>0933</td><td>4</td><td>0953</td><td>0937</td><td>-16</td><td>0</td><td>0</td><td>null</td><td>null</td><td>null</td><td>null</td><td>null</td><td>null</td><td>Skywest Airlines ...</td><td>Salt Lake City</td><td>Houston</td><td>2015-01-01</td></tr>\n",
       "<tr><td>917</td><td>N606JB</td><td>0545</td><td>0543</td><td>-2</td><td>12</td><td>0555</td><td>77</td><td>66</td><td>44</td><td>187</td><td>0639</td><td>10</td><td>0702</td><td>0649</td><td>-13</td><td>0</td><td>0</td><td>null</td><td>null</td><td>null</td><td>null</td><td>null</td><td>null</td><td>JetBlue Airways</td><td>Boston</td><td>New York</td><td>2015-01-01</td></tr>\n",
       "<tr><td>4646</td><td>N29917</td><td>0545</td><td>0540</td><td>-5</td><td>26</td><td>0606</td><td>116</td><td>122</td><td>91</td><td>628</td><td>0737</td><td>5</td><td>0741</td><td>0742</td><td>1</td><td>0</td><td>0</td><td>null</td><td>null</td><td>null</td><td>null</td><td>null</td><td>null</td><td>Atlantic Southeas...</td><td>Charleston</td><td>Newark</td><td>2015-01-01</td></tr>\n",
       "<tr><td>446</td><td>N651AW</td><td>0550</td><td>0544</td><td>-6</td><td>15</td><td>0559</td><td>178</td><td>179</td><td>159</td><td>1044</td><td>0738</td><td>5</td><td>0748</td><td>0743</td><td>-5</td><td>0</td><td>0</td><td>null</td><td>null</td><td>null</td><td>null</td><td>null</td><td>null</td><td>US Airways Inc.</td><td>Kansas City</td><td>Phoenix</td><td>2015-01-01</td></tr>\n",
       "<tr><td>247</td><td>N462UA</td><td>0600</td><td>0751</td><td>111</td><td>31</td><td>0822</td><td>148</td><td>160</td><td>118</td><td>1009</td><td>1120</td><td>11</td><td>0928</td><td>1131</td><td>123</td><td>0</td><td>0</td><td>null</td><td>12</td><td>0</td><td>0</td><td>0</td><td>111</td><td>United Air Lines ...</td><td>Phoenix</td><td>Houston</td><td>2015-01-01</td></tr>\n",
       "<tr><td>1039</td><td>N541AA</td><td>0600</td><td>0606</td><td>6</td><td>13</td><td>0619</td><td>105</td><td>102</td><td>80</td><td>460</td><td>0739</td><td>9</td><td>0745</td><td>0748</td><td>3</td><td>0</td><td>0</td><td>null</td><td>null</td><td>null</td><td>null</td><td>null</td><td>null</td><td>American Airlines...</td><td>Kansas City</td><td>Dallas-Fort Worth</td><td>2015-01-01</td></tr>\n",
       "<tr><td>1098</td><td>N966AT</td><td>0600</td><td>0601</td><td>1</td><td>9</td><td>0610</td><td>143</td><td>110</td><td>97</td><td>765</td><td>0847</td><td>4</td><td>0923</td><td>0851</td><td>-32</td><td>0</td><td>0</td><td>null</td><td>null</td><td>null</td><td>null</td><td>null</td><td>null</td><td>Delta Air Lines Inc.</td><td>Appleton</td><td>Atlanta</td><td>2015-01-01</td></tr>\n",
       "<tr><td>913</td><td>N3JVAA</td><td>0600</td><td>0605</td><td>5</td><td>12</td><td>0617</td><td>157</td><td>151</td><td>130</td><td>919</td><td>0827</td><td>9</td><td>0837</td><td>0836</td><td>-1</td><td>0</td><td>0</td><td>null</td><td>null</td><td>null</td><td>null</td><td>null</td><td>null</td><td>American Airlines...</td><td>Arlington</td><td>Miami</td><td>2015-01-01</td></tr>\n",
       "<tr><td>1574</td><td>N532US</td><td>0600</td><td>0550</td><td>-10</td><td>12</td><td>0602</td><td>209</td><td>212</td><td>196</td><td>1310</td><td>0818</td><td>4</td><td>0829</td><td>0822</td><td>-7</td><td>0</td><td>0</td><td>null</td><td>null</td><td>null</td><td>null</td><td>null</td><td>null</td><td>Delta Air Lines Inc.</td><td>Orlando</td><td>Minneapolis</td><td>2015-01-01</td></tr>\n",
       "<tr><td>1600</td><td>N351JB</td><td>0600</td><td>0552</td><td>-8</td><td>17</td><td>0609</td><td>107</td><td>92</td><td>72</td><td>399</td><td>0721</td><td>3</td><td>0747</td><td>0724</td><td>-23</td><td>0</td><td>0</td><td>null</td><td>null</td><td>null</td><td>null</td><td>null</td><td>null</td><td>JetBlue Airways</td><td>Boston</td><td>Arlington</td><td>2015-01-01</td></tr>\n",
       "<tr><td>2533</td><td>N906EV</td><td>0600</td><td>0559</td><td>-1</td><td>33</td><td>0632</td><td>155</td><td>166</td><td>128</td><td>772</td><td>0740</td><td>5</td><td>0735</td><td>0745</td><td>10</td><td>0</td><td>0</td><td>null</td><td>null</td><td>null</td><td>null</td><td>null</td><td>null</td><td>Atlantic Southeas...</td><td>Knoxville</td><td>Dallas-Fort Worth</td><td>2015-01-01</td></tr>\n",
       "</table>\n",
       "only showing top 20 rows\n"
      ],
      "text/plain": [
       "+-------------+-----------+-------------------+--------------+---------------+--------+----------+--------------+------------+--------+--------+---------+-------+-----------------+------------+-------------+--------+---------+-------------------+----------------+--------------+-------------+-------------------+-------------+--------------------+--------------+-----------------+----------+\n",
       "|FLIGHT_NUMBER|TAIL_NUMBER|SCHEDULED_DEPARTURE|DEPARTURE_TIME|DEPARTURE_DELAY|TAXI_OUT|WHEELS_OFF|SCHEDULED_TIME|ELAPSED_TIME|AIR_TIME|DISTANCE|WHEELS_ON|TAXI_IN|SCHEDULED_ARRIVAL|ARRIVAL_TIME|ARRIVAL_DELAY|DIVERTED|CANCELLED|CANCELLATION_REASON|AIR_SYSTEM_DELAY|SECURITY_DELAY|AIRLINE_DELAY|LATE_AIRCRAFT_DELAY|WEATHER_DELAY|            AIRLINE_|  CITY_DEPART_|    CITY_ARRIVAL_|     DATE_|\n",
       "+-------------+-----------+-------------------+--------------+---------------+--------+----------+--------------+------------+--------+--------+---------+-------+-----------------+------------+-------------+--------+---------+-------------------+----------------+--------------+-------------+-------------------+-------------+--------------------+--------------+-----------------+----------+\n",
       "|          840|     N171US|               0020|          0018|             -2|      16|      0034|           286|         293|     266|    2296|     0800|     11|             0806|        0811|            5|       0|        0|               null|            null|          null|         null|               null|         null|     US Airways Inc.| San Francisco|        Charlotte|2015-01-01|\n",
       "|          258|     N3HYAA|               0020|          0015|             -5|      15|      0030|           285|         281|     258|    2342|     0748|      8|             0805|        0756|           -9|       0|        0|               null|            null|          null|         null|               null|         null|American Airlines...|   Los Angeles|            Miami|2015-01-01|\n",
       "|         2440|     N651DL|               0040|          0039|             -1|      28|      0107|           189|         198|     166|    1399|     0553|      4|             0549|        0557|            8|       0|        0|               null|            null|          null|         null|               null|         null|Delta Air Lines Inc.|       Seattle|      Minneapolis|2015-01-01|\n",
       "|         1670|     N806DN|               0050|          0045|             -5|       9|      0054|           193|         186|     171|    1426|     0545|      6|             0603|        0551|          -12|       0|        0|               null|            null|          null|         null|               null|         null|Delta Air Lines Inc.|      Portland|      Minneapolis|2015-01-01|\n",
       "|          972|     N606NK|               0159|          0158|             -1|      11|      0209|           123|         125|     103|     868|     0452|     11|             0502|        0503|            1|       0|        0|               null|            null|          null|         null|               null|         null|    Spirit Air Lines|       Phoenix|Dallas-Fort Worth|2015-01-01|\n",
       "|         2134|     N307JB|               0400|          0535|             95|       9|      0544|           185|         175|     163|    1189|     0727|      3|             0605|        0730|           85|       0|        0|               null|               0|             0|           85|                  0|            0|     JetBlue Airways|      San Juan|          Orlando|2015-01-01|\n",
       "|          730|     N423AS|               0505|          0457|             -8|      16|      0513|           205|         199|     179|    1448|     0912|      4|             0930|        0916|          -14|       0|        0|               null|            null|          null|         null|               null|         null|Alaska Airlines Inc.|     Anchorage|          Seattle|2015-01-01|\n",
       "|         7419|     N445SW|               0510|          0508|             -2|      21|      0529|            69|          67|      41|     257|     0610|      5|             0619|        0615|           -4|       0|        0|               null|            null|          null|         null|               null|         null|Skywest Airlines ...|      Aberdeen|      Minneapolis|2015-01-01|\n",
       "|         1279|     N918FR|               0530|          0526|             -4|      12|      0538|           160|         146|     128|     861|     0746|      6|             0810|        0752|          -18|       0|        0|               null|            null|          null|         null|               null|         null|Frontier Airlines...|  Philadelphia|          Orlando|2015-01-01|\n",
       "|         5184|     N776SK|               0540|          0537|             -3|      18|      0555|           193|         180|     158|    1195|     0933|      4|             0953|        0937|          -16|       0|        0|               null|            null|          null|         null|               null|         null|Skywest Airlines ...|Salt Lake City|          Houston|2015-01-01|\n",
       "|          917|     N606JB|               0545|          0543|             -2|      12|      0555|            77|          66|      44|     187|     0639|     10|             0702|        0649|          -13|       0|        0|               null|            null|          null|         null|               null|         null|     JetBlue Airways|        Boston|         New York|2015-01-01|\n",
       "|         4646|     N29917|               0545|          0540|             -5|      26|      0606|           116|         122|      91|     628|     0737|      5|             0741|        0742|            1|       0|        0|               null|            null|          null|         null|               null|         null|Atlantic Southeas...|    Charleston|           Newark|2015-01-01|\n",
       "|          446|     N651AW|               0550|          0544|             -6|      15|      0559|           178|         179|     159|    1044|     0738|      5|             0748|        0743|           -5|       0|        0|               null|            null|          null|         null|               null|         null|     US Airways Inc.|   Kansas City|          Phoenix|2015-01-01|\n",
       "|          247|     N462UA|               0600|          0751|            111|      31|      0822|           148|         160|     118|    1009|     1120|     11|             0928|        1131|          123|       0|        0|               null|              12|             0|            0|                  0|          111|United Air Lines ...|       Phoenix|          Houston|2015-01-01|\n",
       "|         1039|     N541AA|               0600|          0606|              6|      13|      0619|           105|         102|      80|     460|     0739|      9|             0745|        0748|            3|       0|        0|               null|            null|          null|         null|               null|         null|American Airlines...|   Kansas City|Dallas-Fort Worth|2015-01-01|\n",
       "|         1098|     N966AT|               0600|          0601|              1|       9|      0610|           143|         110|      97|     765|     0847|      4|             0923|        0851|          -32|       0|        0|               null|            null|          null|         null|               null|         null|Delta Air Lines Inc.|      Appleton|          Atlanta|2015-01-01|\n",
       "|          913|     N3JVAA|               0600|          0605|              5|      12|      0617|           157|         151|     130|     919|     0827|      9|             0837|        0836|           -1|       0|        0|               null|            null|          null|         null|               null|         null|American Airlines...|     Arlington|            Miami|2015-01-01|\n",
       "|         1574|     N532US|               0600|          0550|            -10|      12|      0602|           209|         212|     196|    1310|     0818|      4|             0829|        0822|           -7|       0|        0|               null|            null|          null|         null|               null|         null|Delta Air Lines Inc.|       Orlando|      Minneapolis|2015-01-01|\n",
       "|         1600|     N351JB|               0600|          0552|             -8|      17|      0609|           107|          92|      72|     399|     0721|      3|             0747|        0724|          -23|       0|        0|               null|            null|          null|         null|               null|         null|     JetBlue Airways|        Boston|        Arlington|2015-01-01|\n",
       "|         2533|     N906EV|               0600|          0559|             -1|      33|      0632|           155|         166|     128|     772|     0740|      5|             0735|        0745|           10|       0|        0|               null|            null|          null|         null|               null|         null|Atlantic Southeas...|     Knoxville|Dallas-Fort Worth|2015-01-01|\n",
       "+-------------+-----------+-------------------+--------------+---------------+--------+----------+--------------+------------+--------+--------+---------+-------+-----------------+------------+-------------+--------+---------+-------------------+----------------+--------------+-------------+-------------------+-------------+--------------------+--------------+-----------------+----------+\n",
       "only showing top 20 rows"
      ]
     },
     "execution_count": 155,
     "metadata": {},
     "output_type": "execute_result"
    }
   ],
   "source": [
    "#Transform Date\n",
    "\n",
    "flightsDF = flightsDF.withColumn('DATE_', to_date(concat_ws('-',flightsDF.YEAR,flightsDF.MONTH,flightsDF.DAY))).drop(*['YEAR','MONTH','DAY','DAY_OF_WEEK'])\n",
    "flightsDF = RemoveUnnecessaryColumnsFunction(flightsDF);\n",
    "flightsDF.sample(0.1)\n"
   ]
  },
  {
   "cell_type": "code",
   "execution_count": null,
   "id": "22741add-4407-4c18-bf39-77cb5468dbed",
   "metadata": {},
   "outputs": [],
   "source": []
  },
  {
   "cell_type": "code",
   "execution_count": null,
   "id": "4f420d15-4773-4cad-b513-5fdb462c67d3",
   "metadata": {},
   "outputs": [],
   "source": []
  },
  {
   "cell_type": "code",
   "execution_count": null,
   "id": "dc5dcd82-5fc4-4900-b4fb-3d035f6a8ae2",
   "metadata": {},
   "outputs": [],
   "source": []
  },
  {
   "cell_type": "code",
   "execution_count": null,
   "id": "3ff301fc-7bcd-4272-951e-1eb06b810350",
   "metadata": {},
   "outputs": [],
   "source": []
  },
  {
   "cell_type": "code",
   "execution_count": null,
   "id": "429eb0e7-026d-4770-8197-efc94d0f7d29",
   "metadata": {},
   "outputs": [],
   "source": []
  },
  {
   "cell_type": "code",
   "execution_count": null,
   "id": "b397a3f1-ff19-4bba-a3ed-391025be70a2",
   "metadata": {},
   "outputs": [],
   "source": []
  },
  {
   "cell_type": "code",
   "execution_count": null,
   "id": "da0cb117-3285-4b90-b913-084624315708",
   "metadata": {},
   "outputs": [],
   "source": []
  }
 ],
 "metadata": {
  "kernelspec": {
   "display_name": "Python 3 (ipykernel)",
   "language": "python",
   "name": "python3"
  },
  "language_info": {
   "codemirror_mode": {
    "name": "ipython",
    "version": 3
   },
   "file_extension": ".py",
   "mimetype": "text/x-python",
   "name": "python",
   "nbconvert_exporter": "python",
   "pygments_lexer": "ipython3",
   "version": "3.10.6"
  }
 },
 "nbformat": 4,
 "nbformat_minor": 5
}
